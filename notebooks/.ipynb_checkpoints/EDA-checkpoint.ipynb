{
 "cells": [
  {
   "cell_type": "markdown",
   "metadata": {},
   "source": [
    "# EDA"
   ]
  },
  {
   "cell_type": "code",
   "execution_count": 1,
   "metadata": {},
   "outputs": [],
   "source": [
    "import numpy as np\n",
    "import pandas as pd\n",
    "import matplotlib.pyplot as plt\n",
    "import seaborn as sns\n",
    "\n",
    "from scipy import stats"
   ]
  },
  {
   "cell_type": "code",
   "execution_count": 2,
   "metadata": {},
   "outputs": [
    {
     "name": "stderr",
     "output_type": "stream",
     "text": [
      "/home/amina/anaconda3/lib/python3.7/site-packages/IPython/core/interactiveshell.py:3063: DtypeWarning: Columns (5,6) have mixed types.Specify dtype option on import or set low_memory=False.\n",
      "  interactivity=interactivity, compiler=compiler, result=result)\n"
     ]
    }
   ],
   "source": [
    "dfcodon = pd.read_csv('../data/codon_usage.csv')"
   ]
  },
  {
   "cell_type": "code",
   "execution_count": 3,
   "metadata": {},
   "outputs": [
    {
     "data": {
      "text/html": [
       "<div>\n",
       "<style scoped>\n",
       "    .dataframe tbody tr th:only-of-type {\n",
       "        vertical-align: middle;\n",
       "    }\n",
       "\n",
       "    .dataframe tbody tr th {\n",
       "        vertical-align: top;\n",
       "    }\n",
       "\n",
       "    .dataframe thead th {\n",
       "        text-align: right;\n",
       "    }\n",
       "</style>\n",
       "<table border=\"1\" class=\"dataframe\">\n",
       "  <thead>\n",
       "    <tr style=\"text-align: right;\">\n",
       "      <th></th>\n",
       "      <th>Kingdom</th>\n",
       "      <th>DNAtype</th>\n",
       "      <th>SpeciesID</th>\n",
       "      <th>Ncodons</th>\n",
       "      <th>SpeciesName</th>\n",
       "      <th>UUU</th>\n",
       "      <th>UUC</th>\n",
       "      <th>UUA</th>\n",
       "      <th>UUG</th>\n",
       "      <th>CUU</th>\n",
       "      <th>...</th>\n",
       "      <th>CGG</th>\n",
       "      <th>AGA</th>\n",
       "      <th>AGG</th>\n",
       "      <th>GAU</th>\n",
       "      <th>GAC</th>\n",
       "      <th>GAA</th>\n",
       "      <th>GAG</th>\n",
       "      <th>UAA</th>\n",
       "      <th>UAG</th>\n",
       "      <th>UGA</th>\n",
       "    </tr>\n",
       "  </thead>\n",
       "  <tbody>\n",
       "    <tr>\n",
       "      <th>9621</th>\n",
       "      <td>inv</td>\n",
       "      <td>0</td>\n",
       "      <td>65661</td>\n",
       "      <td>1454</td>\n",
       "      <td>Acanthamoeba healyi</td>\n",
       "      <td>0.00275</td>\n",
       "      <td>0.03645</td>\n",
       "      <td>0.00000</td>\n",
       "      <td>0.00275</td>\n",
       "      <td>0.01788</td>\n",
       "      <td>...</td>\n",
       "      <td>0.00069</td>\n",
       "      <td>0.00138</td>\n",
       "      <td>0.01238</td>\n",
       "      <td>0.01376</td>\n",
       "      <td>0.04058</td>\n",
       "      <td>0.00550</td>\n",
       "      <td>0.04470</td>\n",
       "      <td>0.00069</td>\n",
       "      <td>0.00138</td>\n",
       "      <td>0.00069</td>\n",
       "    </tr>\n",
       "    <tr>\n",
       "      <th>2568</th>\n",
       "      <td>vrl</td>\n",
       "      <td>0</td>\n",
       "      <td>53988</td>\n",
       "      <td>11471</td>\n",
       "      <td>Microplitis demolitor bracovirus</td>\n",
       "      <td>0.02485</td>\n",
       "      <td>0.01473</td>\n",
       "      <td>0.01874</td>\n",
       "      <td>0.01560</td>\n",
       "      <td>0.01735</td>\n",
       "      <td>...</td>\n",
       "      <td>0.00593</td>\n",
       "      <td>0.01691</td>\n",
       "      <td>0.00331</td>\n",
       "      <td>0.03496</td>\n",
       "      <td>0.01744</td>\n",
       "      <td>0.05745</td>\n",
       "      <td>0.01560</td>\n",
       "      <td>0.00201</td>\n",
       "      <td>0.00166</td>\n",
       "      <td>0.00131</td>\n",
       "    </tr>\n",
       "    <tr>\n",
       "      <th>9126</th>\n",
       "      <td>inv</td>\n",
       "      <td>0</td>\n",
       "      <td>354105</td>\n",
       "      <td>1676</td>\n",
       "      <td>Coeloplana willeyi</td>\n",
       "      <td>0.01611</td>\n",
       "      <td>0.01134</td>\n",
       "      <td>0.01611</td>\n",
       "      <td>0.00477</td>\n",
       "      <td>0.00955</td>\n",
       "      <td>...</td>\n",
       "      <td>0.01253</td>\n",
       "      <td>0.01134</td>\n",
       "      <td>0.00776</td>\n",
       "      <td>0.02267</td>\n",
       "      <td>0.01492</td>\n",
       "      <td>0.02506</td>\n",
       "      <td>0.03103</td>\n",
       "      <td>0.00060</td>\n",
       "      <td>0.00000</td>\n",
       "      <td>0.00179</td>\n",
       "    </tr>\n",
       "  </tbody>\n",
       "</table>\n",
       "<p>3 rows × 69 columns</p>\n",
       "</div>"
      ],
      "text/plain": [
       "     Kingdom  DNAtype  SpeciesID  Ncodons                       SpeciesName  \\\n",
       "9621     inv        0      65661     1454               Acanthamoeba healyi   \n",
       "2568     vrl        0      53988    11471  Microplitis demolitor bracovirus   \n",
       "9126     inv        0     354105     1676                Coeloplana willeyi   \n",
       "\n",
       "          UUU      UUC      UUA      UUG      CUU  ...      CGG      AGA  \\\n",
       "9621  0.00275  0.03645  0.00000  0.00275  0.01788  ...  0.00069  0.00138   \n",
       "2568  0.02485  0.01473  0.01874  0.01560  0.01735  ...  0.00593  0.01691   \n",
       "9126  0.01611  0.01134  0.01611  0.00477  0.00955  ...  0.01253  0.01134   \n",
       "\n",
       "          AGG      GAU      GAC      GAA      GAG      UAA      UAG      UGA  \n",
       "9621  0.01238  0.01376  0.04058  0.00550  0.04470  0.00069  0.00138  0.00069  \n",
       "2568  0.00331  0.03496  0.01744  0.05745  0.01560  0.00201  0.00166  0.00131  \n",
       "9126  0.00776  0.02267  0.01492  0.02506  0.03103  0.00060  0.00000  0.00179  \n",
       "\n",
       "[3 rows x 69 columns]"
      ]
     },
     "execution_count": 3,
     "metadata": {},
     "output_type": "execute_result"
    }
   ],
   "source": [
    "dfcodon.sample(3)"
   ]
  },
  {
   "cell_type": "code",
   "execution_count": 5,
   "metadata": {},
   "outputs": [
    {
     "name": "stdout",
     "output_type": "stream",
     "text": [
      "<class 'pandas.core.frame.DataFrame'>\n",
      "RangeIndex: 13028 entries, 0 to 13027\n",
      "Data columns (total 69 columns):\n",
      " #   Column       Non-Null Count  Dtype  \n",
      "---  ------       --------------  -----  \n",
      " 0   Kingdom      13028 non-null  object \n",
      " 1   DNAtype      13028 non-null  int64  \n",
      " 2   SpeciesID    13028 non-null  int64  \n",
      " 3   Ncodons      13028 non-null  int64  \n",
      " 4   SpeciesName  13028 non-null  object \n",
      " 5   UUU          13028 non-null  object \n",
      " 6   UUC          13028 non-null  object \n",
      " 7   UUA          13028 non-null  float64\n",
      " 8   UUG          13028 non-null  float64\n",
      " 9   CUU          13028 non-null  float64\n",
      " 10  CUC          13028 non-null  float64\n",
      " 11  CUA          13028 non-null  float64\n",
      " 12  CUG          13028 non-null  float64\n",
      " 13  AUU          13028 non-null  float64\n",
      " 14  AUC          13028 non-null  float64\n",
      " 15  AUA          13028 non-null  float64\n",
      " 16  AUG          13028 non-null  float64\n",
      " 17  GUU          13028 non-null  float64\n",
      " 18  GUC          13028 non-null  float64\n",
      " 19  GUA          13028 non-null  float64\n",
      " 20  GUG          13028 non-null  float64\n",
      " 21  GCU          13028 non-null  float64\n",
      " 22  GCC          13028 non-null  float64\n",
      " 23  GCA          13028 non-null  float64\n",
      " 24  GCG          13028 non-null  float64\n",
      " 25  CCU          13028 non-null  float64\n",
      " 26  CCC          13028 non-null  float64\n",
      " 27  CCA          13028 non-null  float64\n",
      " 28  CCG          13028 non-null  float64\n",
      " 29  UGG          13028 non-null  float64\n",
      " 30  GGU          13028 non-null  float64\n",
      " 31  GGC          13028 non-null  float64\n",
      " 32  GGA          13028 non-null  float64\n",
      " 33  GGG          13028 non-null  float64\n",
      " 34  UCU          13028 non-null  float64\n",
      " 35  UCC          13028 non-null  float64\n",
      " 36  UCA          13028 non-null  float64\n",
      " 37  UCG          13028 non-null  float64\n",
      " 38  AGU          13028 non-null  float64\n",
      " 39  AGC          13028 non-null  float64\n",
      " 40  ACU          13028 non-null  float64\n",
      " 41  ACC          13028 non-null  float64\n",
      " 42  ACA          13028 non-null  float64\n",
      " 43  ACG          13028 non-null  float64\n",
      " 44  UAU          13028 non-null  float64\n",
      " 45  UAC          13028 non-null  float64\n",
      " 46  CAA          13028 non-null  float64\n",
      " 47  CAG          13028 non-null  float64\n",
      " 48  AAU          13028 non-null  float64\n",
      " 49  AAC          13028 non-null  float64\n",
      " 50  UGU          13028 non-null  float64\n",
      " 51  UGC          13028 non-null  float64\n",
      " 52  CAU          13028 non-null  float64\n",
      " 53  CAC          13028 non-null  float64\n",
      " 54  AAA          13028 non-null  float64\n",
      " 55  AAG          13028 non-null  float64\n",
      " 56  CGU          13028 non-null  float64\n",
      " 57  CGC          13028 non-null  float64\n",
      " 58  CGA          13028 non-null  float64\n",
      " 59  CGG          13028 non-null  float64\n",
      " 60  AGA          13028 non-null  float64\n",
      " 61  AGG          13028 non-null  float64\n",
      " 62  GAU          13028 non-null  float64\n",
      " 63  GAC          13028 non-null  float64\n",
      " 64  GAA          13028 non-null  float64\n",
      " 65  GAG          13028 non-null  float64\n",
      " 66  UAA          13028 non-null  float64\n",
      " 67  UAG          13028 non-null  float64\n",
      " 68  UGA          13028 non-null  float64\n",
      "dtypes: float64(62), int64(3), object(4)\n",
      "memory usage: 6.9+ MB\n"
     ]
    }
   ],
   "source": [
    "dfcodon.info()"
   ]
  },
  {
   "cell_type": "code",
   "execution_count": 411,
   "metadata": {},
   "outputs": [],
   "source": [
    "#dfjustcodon = dfcodon.drop(['Kingdom', 'DNAtype', 'SpeciesID', 'Ncodons', 'SpeciesName'], axis=1).copy()\n",
    "#df.drop('column_name', axis=1, inplace=True)\n"
   ]
  },
  {
   "cell_type": "code",
   "execution_count": 53,
   "metadata": {},
   "outputs": [
    {
     "name": "stderr",
     "output_type": "stream",
     "text": [
      "/home/amina/anaconda3/lib/python3.7/site-packages/pandas/core/ops/array_ops.py:253: FutureWarning: elementwise comparison failed; returning scalar instead, but in the future will perform elementwise comparison\n",
      "  res_values = method(rvalues)\n"
     ]
    }
   ],
   "source": [
    "#hepb = dfjustcodon[dfjustcodon.eq(\"non-B hepatitis virus\").any(1)]"
   ]
  },
  {
   "cell_type": "code",
   "execution_count": 54,
   "metadata": {},
   "outputs": [],
   "source": [
    "#hepb = dfjustcodon[dfjustcodon.eq(\"non-B hepatitis virus\").any(1)]"
   ]
  },
  {
   "cell_type": "code",
   "execution_count": 55,
   "metadata": {},
   "outputs": [],
   "source": [
    "#dfjustcodon['UUU'] = dfjustcodon['UUU'].replace(['non-B hepatitis virus'], 0.01)"
   ]
  },
  {
   "cell_type": "code",
   "execution_count": 412,
   "metadata": {},
   "outputs": [],
   "source": [
    "#dfjustcodon[dfjustcodon.eq(\"non-B hepatitis virus\").any(1)]"
   ]
  },
  {
   "cell_type": "code",
   "execution_count": 413,
   "metadata": {},
   "outputs": [],
   "source": [
    "#dfjustcodon[dfjustcodon['UUC'] == '-']"
   ]
  },
  {
   "cell_type": "code",
   "execution_count": 414,
   "metadata": {},
   "outputs": [],
   "source": [
    "#dfjustcodon[dfjustcodon['UUC'] == '-']"
   ]
  },
  {
   "cell_type": "code",
   "execution_count": 59,
   "metadata": {},
   "outputs": [],
   "source": [
    "# dfjustcodon['UUU'] = dfjustcodon['UUU'].astype(float)\n",
    "# dfjustcodon['UUC'] = dfjustcodon['UUC'].astype(float)\n",
    "# dfjustcodon.info()\n",
    "\n",
    "#unable to change these because there are cells with values that aren't floats"
   ]
  },
  {
   "cell_type": "code",
   "execution_count": 61,
   "metadata": {},
   "outputs": [],
   "source": [
    "#dfjustcodon.corr().style.background_gradient(cmap='coolwarm')"
   ]
  },
  {
   "cell_type": "code",
   "execution_count": 415,
   "metadata": {},
   "outputs": [],
   "source": [
    "#sns.heatmap(dfjustcodon) #need to change objects to floats"
   ]
  },
  {
   "cell_type": "code",
   "execution_count": 287,
   "metadata": {},
   "outputs": [],
   "source": [
    "dfjustcodon1 = dfcodon.drop(['Kingdom', 'DNAtype', 'SpeciesID', 'Ncodons', 'SpeciesName'], axis=1).copy()"
   ]
  },
  {
   "cell_type": "code",
   "execution_count": 416,
   "metadata": {},
   "outputs": [],
   "source": [
    "# plt.figure(figsize=(10, 10))\n",
    "# sns.heatmap(dfjustcodon)"
   ]
  },
  {
   "cell_type": "code",
   "execution_count": 402,
   "metadata": {},
   "outputs": [],
   "source": [
    "def char_finder(data_frame, series_name):\n",
    "    cnt=0\n",
    "    print(series_name)\n",
    "    for row in data_frame[series_name]:\n",
    "        try:\n",
    "            float(row) #changed to float to not flag NaNs or decimals.  \n",
    "            pass\n",
    "        except ValueError:\n",
    "            print(data_frame.loc[cnt, series_name], \"-> at row:\"+str(cnt))\n",
    "        cnt+=1"
   ]
  },
  {
   "cell_type": "markdown",
   "metadata": {},
   "source": [
    "https://towardsdatascience.com/data-cleaning-automatically-removing-bad-data-c4274c21e299"
   ]
  },
  {
   "cell_type": "code",
   "execution_count": 408,
   "metadata": {},
   "outputs": [
    {
     "name": "stdout",
     "output_type": "stream",
     "text": [
      "UUU\n",
      "non-B hepatitis virus -> at row:486\n",
      "12;I -> at row:5063\n",
      "UUC\n",
      "- -> at row:5063\n",
      "UUA\n",
      "UUG\n",
      "CUU\n",
      "CUC\n",
      "CUA\n",
      "CUG\n",
      "AUU\n",
      "AUC\n",
      "AUA\n",
      "AUG\n",
      "GUU\n",
      "GUC\n",
      "GUA\n",
      "GUG\n",
      "GCU\n",
      "GCC\n",
      "GCA\n",
      "GCG\n",
      "CCU\n",
      "CCC\n",
      "CCA\n",
      "CCG\n",
      "UGG\n",
      "GGU\n",
      "GGC\n",
      "GGA\n",
      "GGG\n",
      "UCU\n",
      "UCC\n",
      "UCA\n",
      "UCG\n",
      "AGU\n",
      "AGC\n",
      "ACU\n",
      "ACC\n",
      "ACA\n",
      "ACG\n",
      "UAU\n",
      "UAC\n",
      "CAA\n",
      "CAG\n",
      "AAU\n",
      "AAC\n",
      "UGU\n",
      "UGC\n",
      "CAU\n",
      "CAC\n",
      "AAA\n",
      "AAG\n",
      "CGU\n",
      "CGC\n",
      "CGA\n",
      "CGG\n",
      "AGA\n",
      "AGG\n",
      "GAU\n",
      "GAC\n",
      "GAA\n",
      "GAG\n",
      "UAA\n",
      "UAG\n",
      "UGA\n"
     ]
    }
   ],
   "source": [
    "for col in dfjustcodon1:\n",
    "    char_finder(dfjustcodon1, col)"
   ]
  },
  {
   "cell_type": "code",
   "execution_count": null,
   "metadata": {},
   "outputs": [],
   "source": []
  }
 ],
 "metadata": {
  "kernelspec": {
   "display_name": "Python 3 (ipykernel)",
   "language": "python",
   "name": "python3"
  },
  "language_info": {
   "codemirror_mode": {
    "name": "ipython",
    "version": 3
   },
   "file_extension": ".py",
   "mimetype": "text/x-python",
   "name": "python",
   "nbconvert_exporter": "python",
   "pygments_lexer": "ipython3",
   "version": "3.7.6"
  }
 },
 "nbformat": 4,
 "nbformat_minor": 4
}
